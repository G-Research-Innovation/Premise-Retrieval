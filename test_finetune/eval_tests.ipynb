{
 "cells": [
  {
   "cell_type": "code",
   "execution_count": 1,
   "metadata": {},
   "outputs": [],
   "source": [
    "import os\n",
    "import argparse\n",
    "import json\n",
    "from dataclasses import dataclass, field\n",
    "from pathlib import Path\n",
    "from typing import Generator\n",
    "import re\n",
    "import toml\n",
    "\n",
    "os.environ[\"PATH\"] += ':/home/ex-anastasia/Premise-Retrieval/.venv/bin'\n",
    "os.environ[\"PATH\"] += ':/home/ex-anastasia/.elan/bin'"
   ]
  },
  {
   "cell_type": "markdown",
   "metadata": {},
   "source": [
    "Here, we test out various ways of evaluating the model, including the classic evaluation on the lean-dojo benchmark (for f2f it should be the same?) & the evals used in Premise-Retrieval. "
   ]
  },
  {
   "cell_type": "code",
   "execution_count": 2,
   "metadata": {},
   "outputs": [
    {
     "name": "stdout",
     "output_type": "stream",
     "text": [
      "Original state and goal: R : Type u_1\n",
      "α : Type u_2\n",
      "β : Type u_3\n",
      "δ : Type u_4\n",
      "γ : Type u_5\n",
      "ι : Type u_6\n",
      "m0 : MeasurableSpace α\n",
      "inst✝¹ : MeasurableSpace β\n",
      "inst✝ : MeasurableSpace γ\n",
      "μ μ₁ μ₂ μ₃ ν ν' ν₁ ν₂ : Measure α\n",
      "s s' t : Set α\n",
      "h : s ⊆ t\n",
      "⊢ (μ.restrict t).restrict s = μ.restrict s\n",
      "Proof: ['ext1 u hu', 'rw [restrict_apply hu, restrict_apply hu, restrict_eq_self]', 'exact inter_subset_right.trans h']\n",
      "Premises: [[], [{'full_name': 'MeasureTheory.Measure.restrict_apply', 'def_path': 'Mathlib/MeasureTheory/Measure/Restrict.lean', 'def_pos': [66, 8], 'def_end_pos': [66, 22]}, {'full_name': 'MeasureTheory.Measure.restrict_eq_self', 'def_path': 'Mathlib/MeasureTheory/Measure/Restrict.lean', 'def_pos': [111, 8], 'def_end_pos': [111, 24]}], [{'full_name': 'Set.inter_subset_right', 'def_path': 'Mathlib/Data/Set/Basic.lean', 'def_pos': [764, 8], 'def_end_pos': [764, 26]}]]\n",
      "URL: Mathlib/MeasureTheory/Measure/Restrict.lean\n",
      "Full name: MeasureTheory.Measure.restrict_restrict_of_subset\n",
      "Short name: restrict_restrict_of_subset\n"
     ]
    }
   ],
   "source": [
    "# load the lean-dojo dataset from mathlib_handler_benchmark\n",
    "\n",
    "DST_DIR = Path(\"/home/ex-anastasia/Premise-Retrieval/mathlib_handler_benchmark_410/\")\n",
    "\n",
    "test_path = DST_DIR / \"random/test.jsonl\"\n",
    "lines_test = list(test_path.open())\n",
    "one_line_test = json.loads(lines_test[0])\n",
    "\n",
    "# original state + goal \n",
    "print(f\"Original state and goal: {one_line_test['tactics'][0]['state_before']}\")\n",
    "proof_steps = [el['tactic'] for el in one_line_test['tactics']]\n",
    "print(f\"Proof: {proof_steps}\")\n",
    "print(f\"Premises: {[el['premises'] for el in one_line_test['tactics']]}\")\n",
    "\n",
    "url = one_line_test['url']\n",
    "full_name = one_line_test['full_name']\n",
    "short_name = full_name.split(\".\")[-1]\n",
    "print(f\"URL: {url}\")\n",
    "print(f\"Full name: {full_name}\")\n",
    "print(f\"Short name: {short_name}\")"
   ]
  },
  {
   "cell_type": "markdown",
   "metadata": {},
   "source": [
    "Running lean-dojo on the dataset"
   ]
  },
  {
   "cell_type": "code",
   "execution_count": 3,
   "metadata": {},
   "outputs": [],
   "source": [
    "from lean_dojo import LeanGitRepo, trace, Theorem, Dojo, TacticState"
   ]
  },
  {
   "cell_type": "code",
   "execution_count": 4,
   "metadata": {},
   "outputs": [
    {
     "data": {
      "text/plain": [
       "{'content': 'leanprover/lean4:v4.10.0-rc1\\n'}"
      ]
     },
     "execution_count": 4,
     "metadata": {},
     "output_type": "execute_result"
    }
   ],
   "source": [
    "repo_url = 'https://github.com/leanprover-community/mathlib'\n",
    "repo = LeanGitRepo(\n",
    "    \"https://github.com/leanprover-community/mathlib4\",\n",
    "    \"29dcec074de168ac2bf835a77ef68bbe069194c5\",\n",
    ")\n",
    "repo.get_config(\"lean-toolchain\")"
   ]
  },
  {
   "cell_type": "code",
   "execution_count": 5,
   "metadata": {},
   "outputs": [
    {
     "name": "stderr",
     "output_type": "stream",
     "text": [
      "\u001b[32m2025-03-19 18:32:37.200\u001b[0m | \u001b[1mINFO    \u001b[0m | \u001b[36mlean_dojo.data_extraction.trace\u001b[0m:\u001b[36mtrace\u001b[0m:\u001b[36m248\u001b[0m - \u001b[1mLoading the traced repo from /home/ex-anastasia/.cache/lean_dojo/leanprover-community-mathlib4-29dcec074de168ac2bf835a77ef68bbe069194c5/mathlib4\u001b[0m\n",
      "2025-03-19 18:32:38,956\tINFO worker.py:1832 -- Started a local Ray instance. View the dashboard at \u001b[1m\u001b[32m127.0.0.1:8265 \u001b[39m\u001b[22m\n",
      "100%|██████████| 5674/5674 [10:52<00:00,  8.70it/s]  \n"
     ]
    }
   ],
   "source": [
    "traced_repo = trace(repo)"
   ]
  },
  {
   "cell_type": "code",
   "execution_count": 6,
   "metadata": {},
   "outputs": [
    {
     "name": "stdout",
     "output_type": "stream",
     "text": [
      "5674\n"
     ]
    }
   ],
   "source": [
    "print(len(traced_repo.traced_files))"
   ]
  },
  {
   "cell_type": "code",
   "execution_count": 7,
   "metadata": {},
   "outputs": [
    {
     "name": "stdout",
     "output_type": "stream",
     "text": [
      "TracedFile(root_dir=PosixPath('/home/ex-anastasia/.cache/lean_dojo/leanprover-community-mathlib4-29dcec074de168ac2bf835a77ef68bbe069194c5/mathlib4'), repo=LeanGitRepo(url='/home/ex-anastasia/.cache/lean_dojo/leanprover-community-mathlib4-29dcec074de168ac2bf835a77ef68bbe069194c5/mathlib4', commit='29dcec074de168ac2bf835a77ef68bbe069194c5'), lean_file=LeanFile(path=PosixPath('Mathlib/Algebra/BigOperators/Pi.lean')))\n"
     ]
    }
   ],
   "source": [
    "traced_file = traced_repo.get_traced_file(\"Mathlib/Algebra/BigOperators/Pi.lean\")\n",
    "print(traced_file)\n",
    "traced_file.get_premise_definitions()\n",
    "\n",
    "theorem = Theorem(repo, \"Mathlib/Algebra/BigOperators/Pi.lean\", \"pi_eq_sum_univ\")\n",
    "dojo, new_state = Dojo(theorem).__enter__()"
   ]
  },
  {
   "cell_type": "code",
   "execution_count": 10,
   "metadata": {},
   "outputs": [
    {
     "name": "stdout",
     "output_type": "stream",
     "text": [
      "TacticState(pp=\"case h\\nR : Type u_1\\nα : Type u_2\\nβ : Type u_3\\nδ : Type u_4\\nγ : Type u_5\\nι : Type u_6\\nm0 : MeasurableSpace α\\ninst✝¹ : MeasurableSpace β\\ninst✝ : MeasurableSpace γ\\nμ μ₁ μ₂ μ₃ ν ν' ν₁ ν₂ : Measure α\\ns s' t : Set α\\nh : s ⊆ t\\nu : Set α\\nhu : MeasurableSet u\\n⊢ ((μ.restrict t).restrict s) u = (μ.restrict s) u\", id=1, message='')\n",
      "TacticState(pp=\"case h.h\\nR : Type u_1\\nα : Type u_2\\nβ : Type u_3\\nδ : Type u_4\\nγ : Type u_5\\nι : Type u_6\\nm0 : MeasurableSpace α\\ninst✝¹ : MeasurableSpace β\\ninst✝ : MeasurableSpace γ\\nμ μ₁ μ₂ μ₃ ν ν' ν₁ ν₂ : Measure α\\ns s' t : Set α\\nh : s ⊆ t\\nu : Set α\\nhu : MeasurableSet u\\n⊢ u ∩ s ⊆ t\", id=2, message='')\n",
      "ProofFinished(tactic_state_id=3, message='')\n",
      "LeanError(error=\"tactic 'introN' failed, insufficient number of binders\\ncase nil\\nα : Type u\\nβ : Type v\\nl l₁ l₂ : List α\\nr : α → α → Prop\\na b : α\\n⊢ [].Nodup ↔ ∀ (a : α), ¬[a, a] <+ []\\ntactic 'introN' failed, insufficient number of binders\\ncase cons\\nα : Type u\\nβ : Type v\\nl✝ l₁ l₂ : List α\\nr : α → α → Prop\\na✝ b a : α\\nl : List α\\nIH : l.Nodup ↔ ∀ (a : α), ¬[a, a] <+ l\\n⊢ (a :: l).Nodup ↔ ∀ (a_1 : α), ¬[a_1, a_1] <+ a :: l\")\n",
      "AST file not found for theorem: nodup_iff_sublist\n",
      "AST file not found for theorem: setLIntegral_restrict\n",
      "TacticState(pp=\"α : Type u_1\\nβ : Type u_2\\nE : Type u_3\\nF : Type u_4\\nG : Type u_5\\nE' : Type u_6\\nF' : Type u_7\\nG' : Type u_8\\nE'' : Type u_9\\nF'' : Type u_10\\nG'' : Type u_11\\nE''' : Type u_12\\nR : Type u_13\\nR' : Type u_14\\n𝕜 : Type u_15\\n𝕜' : Type u_16\\ninst✝¹³ : Norm E\\ninst✝¹² : Norm F\\ninst✝¹¹ : Norm G\\ninst✝¹⁰ : SeminormedAddCommGroup E'\\ninst✝⁹ : SeminormedAddCommGroup F'\\ninst✝⁸ : SeminormedAddCommGroup G'\\ninst✝⁷ : NormedAddCommGroup E''\\ninst✝⁶ : NormedAddCommGroup F''\\ninst✝⁵ : NormedAddCommGroup G''\\ninst✝⁴ : SeminormedRing R\\ninst✝³ : SeminormedAddGroup E'''\\ninst✝² : SeminormedRing R'\\ninst✝¹ : NormedDivisionRing 𝕜\\ninst✝ : NormedDivisionRing 𝕜'\\nc c' c₁ c₂ : ℝ\\nf : α → E\\ng : α → F\\nk✝ : α → G\\nf' : α → E'\\ng' : α → F'\\nk' : α → G'\\nf'' : α → E''\\ng'' : α → F''\\nk'' : α → G''\\nl✝ l' : Filter α\\nk : β → α\\nl : Filter β\\n⊢ (∀ᶠ (x : α) in map k l, ‖f x‖ ≤ c * ‖g x‖) ↔ ∀ᶠ (x : β) in l, ‖(f ∘ k) x‖ ≤ c * ‖(g ∘ k) x‖\", id=1, message='')\n",
      "ProofFinished(tactic_state_id=2, message='')\n",
      "TacticState(pp=\"case intro.intro\\nα : Type u_1\\nβ : Type u_2\\nγ : Type u_3\\nι : Sort u_4\\nπ : α → Type u_5\\ns s₁ s₂ : Set α\\nt t₁ t₂ : Set β\\np : Set γ\\nf f₁ f₂ f₃ : α → β\\ng g₁ g₂ : β → γ\\nf' f₁' f₂' : β → α\\ng' : γ → β\\na : α\\nb : β\\nh : Injective (g ∘ f)\\nx y : α\\nH : g (f x) = g (f y)\\n⊢ f x = f y\", id=1, message='')\n",
      "ProofFinished(tactic_state_id=2, message='')\n",
      "ProofFinished(tactic_state_id=1, message='')\n",
      "AST file not found for theorem: integrable_of_bounded_and_ae_continuousWithinAt\n",
      "TacticState(pp=\"case intro.intro.intro.intro.intro\\nC : Type u_1\\nD : Type u_2\\ninst✝² : Category.{u_3, u_1} C\\ninst✝¹ : Category.{?u.132570, u_2} D\\nL : C ⥤ D\\nW✝ : MorphismProperty C\\ninst✝ : L.IsLocalization W✝\\nW : MorphismProperty Cᵒᵖ\\nX Y : Cᵒᵖ\\nz₁ z₂ : W.RightFraction X Y\\nZ : Cᵒᵖ\\nt₁ : Z ⟶ z₁.X'\\nt₂ : Z ⟶ z₂.X'\\nhs : t₁ ≫ z₁.s = t₂ ≫ z₂.s\\nhf : t₁ ≫ z₁.f = t₂ ≫ z₂.f\\nht : W (t₁ ≫ z₁.s)\\n⊢ LeftFractionRel z₁.unop z₂.unop\", id=1, message='')\n",
      "ProofFinished(tactic_state_id=2, message='')\n",
      "TacticState(pp='α : Type u_1\\nβ : Type u_2\\nγ : Type u_3\\nδ : Type u_4\\ninst✝¹⁰ : MeasurableSpace α\\nμ ν : Measure α\\ninst✝⁹ : TopologicalSpace β\\ninst✝⁸ : TopologicalSpace γ\\ninst✝⁷ : TopologicalSpace δ\\ninst✝⁶ : MeasurableSpace β\\ninst✝⁵ : PseudoMetrizableSpace β\\ninst✝⁴ : BorelSpace β\\ninst✝³ : MeasurableSpace γ\\ninst✝² : PseudoMetrizableSpace γ\\ninst✝¹ : OpensMeasurableSpace γ\\ninst✝ : SecondCountableTopology γ\\ng : β → γ\\nhg : Measurable g\\nf : α →ₘ[μ] β\\n⊢ ↑(mk (g ∘ ↑f) ⋯) =ᶠ[ae μ] g ∘ ↑f', id=1, message='')\n",
      "ProofFinished(tactic_state_id=2, message='')\n",
      "LeanError(error=\"unknown identifier 'hi.ne'\")\n"
     ]
    }
   ],
   "source": [
    "for it in range(10):\n",
    "    one_line_test = json.loads(lines_test[it])\n",
    "\n",
    "    url = one_line_test['url']\n",
    "    full_name = one_line_test['full_name']\n",
    "    short_name = full_name.split(\".\")[-1]\n",
    "    try: \n",
    "        theorem = Theorem(repo, url, full_name)\n",
    "\n",
    "        dojo, new_state = Dojo(theorem).__enter__()\n",
    "\n",
    "        proof_steps = [el['tactic'] for el in one_line_test['tactics']]\n",
    "        for proof_step in proof_steps: \n",
    "            new_state = dojo.run_tac(new_state, proof_step)\n",
    "            print(new_state)\n",
    "    except: \n",
    "        print('AST file not found for theorem: ' + short_name)"
   ]
  },
  {
   "cell_type": "code",
   "execution_count": null,
   "metadata": {},
   "outputs": [],
   "source": [
    "# Test with an LLM model\n",
    "\n",
    "import torch\n",
    "import transformers\n"
   ]
  },
  {
   "cell_type": "code",
   "execution_count": null,
   "metadata": {},
   "outputs": [],
   "source": []
  }
 ],
 "metadata": {
  "kernelspec": {
   "display_name": ".venv",
   "language": "python",
   "name": "python3"
  },
  "language_info": {
   "codemirror_mode": {
    "name": "ipython",
    "version": 3
   },
   "file_extension": ".py",
   "mimetype": "text/x-python",
   "name": "python",
   "nbconvert_exporter": "python",
   "pygments_lexer": "ipython3",
   "version": "3.10.16"
  }
 },
 "nbformat": 4,
 "nbformat_minor": 2
}
