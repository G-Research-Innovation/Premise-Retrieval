{
 "cells": [
  {
   "cell_type": "code",
   "execution_count": 1,
   "metadata": {},
   "outputs": [],
   "source": [
    "from lean_dojo import LeanGitRepo, trace, Theorem, Dojo"
   ]
  },
  {
   "cell_type": "code",
   "execution_count": 5,
   "metadata": {},
   "outputs": [],
   "source": [
    "import os \n",
    "os.environ[\"PATH\"] += ':/home/ex-anastasia/Premise-Retrieval/.venv/bin'\n",
    "os.environ[\"PATH\"] += ':/home/ex-anastasia/.elan/bin'"
   ]
  },
  {
   "cell_type": "markdown",
   "metadata": {},
   "source": [
    "From: https://github.com/lean-dojo/LeanDojo/blob/main/scripts/demo-lean4.ipynb\n",
    "\n",
    "Using example from: https://github.com/yangky11/lean4-example/blob/main/Lean4Example.lean\n"
   ]
  },
  {
   "cell_type": "code",
   "execution_count": 6,
   "metadata": {},
   "outputs": [],
   "source": [
    "repo = LeanGitRepo(\"https://github.com/yangky11/lean4-example\", \"7b6ecb9ad4829e4e73600a3329baeb3b5df8d23f\")"
   ]
  },
  {
   "cell_type": "code",
   "execution_count": 7,
   "metadata": {},
   "outputs": [
    {
     "name": "stdout",
     "output_type": "stream",
     "text": [
      "Theorem(repo=LeanGitRepo(url='https://github.com/yangky11/lean4-example', commit='7b6ecb9ad4829e4e73600a3329baeb3b5df8d23f'), file_path=PosixPath('Lean4Example.lean'), full_name='hello_world')\n"
     ]
    }
   ],
   "source": [
    "theorem = Theorem(repo, \"Lean4Example.lean\", \"hello_world\")\n",
    "print(theorem)"
   ]
  },
  {
   "cell_type": "code",
   "execution_count": 8,
   "metadata": {},
   "outputs": [],
   "source": [
    "# For some theorems, it might take a few minutes.\n",
    "dojo, state_0 = Dojo(theorem).__enter__()"
   ]
  },
  {
   "cell_type": "code",
   "execution_count": 9,
   "metadata": {},
   "outputs": [
    {
     "name": "stdout",
     "output_type": "stream",
     "text": [
      "TacticState(pp='a b c : Nat\\n⊢ a + b + c = a + c + b', id=0, message=None)\n"
     ]
    }
   ],
   "source": [
    "print(state_0)"
   ]
  },
  {
   "cell_type": "code",
   "execution_count": 10,
   "metadata": {},
   "outputs": [
    {
     "name": "stdout",
     "output_type": "stream",
     "text": [
      "TacticState(pp='a b c : Nat\\n⊢ a + (b + c) = a + c + b', id=1, message='')\n"
     ]
    }
   ],
   "source": [
    "state_1 = dojo.run_tac(state_0, 'rw [add_assoc]')\n",
    "print(state_1)"
   ]
  },
  {
   "cell_type": "code",
   "execution_count": 11,
   "metadata": {},
   "outputs": [
    {
     "name": "stdout",
     "output_type": "stream",
     "text": [
      "ProofFinished(tactic_state_id=2, message='')\n",
      "True\n"
     ]
    }
   ],
   "source": [
    "state_2 = dojo.run_tac(state_1, 'rw [add_comm b, ←add_assoc]')\n",
    "print(state_2)\n",
    "\n",
    "print(dojo.is_successful)"
   ]
  }
 ],
 "metadata": {
  "kernelspec": {
   "display_name": ".venv",
   "language": "python",
   "name": "python3"
  },
  "language_info": {
   "codemirror_mode": {
    "name": "ipython",
    "version": 3
   },
   "file_extension": ".py",
   "mimetype": "text/x-python",
   "name": "python",
   "nbconvert_exporter": "python",
   "pygments_lexer": "ipython3",
   "version": "3.10.16"
  }
 },
 "nbformat": 4,
 "nbformat_minor": 2
}
